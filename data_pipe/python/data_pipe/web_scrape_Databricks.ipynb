{
 "cells": [
  {
   "cell_type": "code",
   "execution_count": 2,
   "metadata": {},
   "outputs": [],
   "source": [
    "\"\"\"Web Scraper for Steam Reviews\"\"\"\n",
    "import json\n",
    "import requests\n",
    "import pandas as pd\n",
    "\n",
    "from bs4 import BeautifulSoup\n"
   ]
  },
  {
   "cell_type": "markdown",
   "metadata": {},
   "source": [
    "## Input parameters below for game name and number of desired reviews \n",
    "(same number for positive and negative)"
   ]
  },
  {
   "cell_type": "code",
   "execution_count": 3,
   "metadata": {},
   "outputs": [],
   "source": [
    "game_name = \"No Man's Sky\"\n",
    "num_reviews = 1000"
   ]
  },
  {
   "cell_type": "code",
   "execution_count": 4,
   "metadata": {},
   "outputs": [],
   "source": [
    "\n",
    "\n",
    "def get_reviews(appid, params={\"json\": 1}):\n",
    "    \"\"\"Get reviews for a given appid of a Steam Game\"\"\"\n",
    "    url = \"https://store.steampowered.com/appreviews/\"\n",
    "    response = requests.get(\n",
    "        url=url + appid,\n",
    "        params=params,\n",
    "        headers={\"User-Agent\": \"Mozilla/5.0\"},\n",
    "        timeout=10,\n",
    "    )\n",
    "    return response.json()\n"
   ]
  },
  {
   "cell_type": "code",
   "execution_count": 5,
   "metadata": {},
   "outputs": [],
   "source": [
    "\n",
    "\n",
    "def get_n_reviews(appid, n=100, type=\"all\"):\n",
    "    \"\"\"Get n reviews for a given appid of a Steam Game\"\"\"\n",
    "    reviews = []\n",
    "    cursor = \"*\"\n",
    "    params = {\n",
    "        \"json\": 1,\n",
    "        \"filter\": \"all\",\n",
    "        \"language\": \"english\",\n",
    "        \"day_range\": 9223372036854775807,\n",
    "        \"review_type\": type,\n",
    "        \"purchase_type\": \"all\",\n",
    "    }\n",
    "\n",
    "    while n > 0:\n",
    "        params[\"cursor\"] = cursor.encode()\n",
    "        params[\"num_per_page\"] = min(100, n)\n",
    "        n -= 100\n",
    "\n",
    "        response = get_reviews(appid, params)\n",
    "        cursor = response[\"cursor\"]\n",
    "        reviews += response[\"reviews\"]\n",
    "\n",
    "        if len(response[\"reviews\"]) < 100:\n",
    "            break\n",
    "\n",
    "    return reviews\n",
    "\n"
   ]
  },
  {
   "cell_type": "code",
   "execution_count": 6,
   "metadata": {},
   "outputs": [],
   "source": [
    "\n",
    "def get_app_id(game_name):\n",
    "    \"\"\"Get the appID for a given game\"\"\"\n",
    "    response = requests.get(\n",
    "        url=f\"https://store.steampowered.com/search/?term={game_name}&category1=998\",\n",
    "        headers={\"User-Agent\": \"Mozilla/5.0\"},\n",
    "        timeout=10,\n",
    "    )\n",
    "    soup = BeautifulSoup(response.text, \"html.parser\")\n",
    "    app_id = soup.find(class_=\"search_result_row\")[\"data-ds-appid\"]\n",
    "    return app_id\n",
    "\n"
   ]
  },
  {
   "cell_type": "code",
   "execution_count": 7,
   "metadata": {},
   "outputs": [],
   "source": [
    "\n",
    "def create_dataframe(reviews):\n",
    "    \"\"\"Create a dataframe from a list of reviews\"\"\"\n",
    "    data_out = pd.DataFrame()\n",
    "    for i, review in enumerate(reviews):\n",
    "        review_df = pd.json_normalize(review, sep=\"_\")\n",
    "        data_out = pd.concat([data_out, review_df])\n",
    "    return data_out\n",
    "\n"
   ]
  },
  {
   "cell_type": "code",
   "execution_count": 8,
   "metadata": {},
   "outputs": [],
   "source": [
    "\n",
    "\n",
    "\"\"\"\n",
    "Function for scraping Steam reviews and saving them\n",
    "to a parquet file, data for a given game will be saved to a\n",
    "data folder in the root directory as a parquet file.\"\"\"\n",
    "   \n",
    "appid = get_app_id(game_name)\n",
    "positive_reviews = get_n_reviews(appid, num_reviews, \"positive\")\n",
    "negative_reviews = get_n_reviews(appid, num_reviews, \"negative\")\n",
    "reviews = positive_reviews + negative_reviews\n",
    "df = create_dataframe(reviews)\n",
    "file_name = game_name.replace(\" \", \"_\")\n",
    "df.to_parquet(f\"../../data/{file_name}.parquet\")\n"
   ]
  }
 ],
 "metadata": {
  "kernelspec": {
   "display_name": "venv",
   "language": "python",
   "name": "python3"
  },
  "language_info": {
   "codemirror_mode": {
    "name": "ipython",
    "version": 3
   },
   "file_extension": ".py",
   "mimetype": "text/x-python",
   "name": "python",
   "nbconvert_exporter": "python",
   "pygments_lexer": "ipython3",
   "version": "3.10.8"
  }
 },
 "nbformat": 4,
 "nbformat_minor": 2
}
