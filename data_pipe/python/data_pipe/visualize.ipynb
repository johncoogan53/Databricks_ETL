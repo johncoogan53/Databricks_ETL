{
 "cells": [
  {
   "cell_type": "code",
   "execution_count": 2,
   "metadata": {},
   "outputs": [],
   "source": [
    "from pyspark.sql import SparkSession\n",
    "import matplotlib.pyplot as plt\n"
   ]
  },
  {
   "cell_type": "code",
   "execution_count": null,
   "metadata": {},
   "outputs": [],
   "source": [
    "\n",
    "# Initialize a SparkSession\n",
    "spark = SparkSession.builder.getOrCreate()\n",
    "\n",
    "# Specify the path to the Delta table\n",
    "delta_table_path = \"../../data/your_delta_table\"\n",
    "\n",
    "# Read the Delta table into a DataFrame\n",
    "df = spark.read.format(\"delta\").load(delta_table_path)\n",
    "\n",
    "# Convert the Spark DataFrame to a Pandas DataFrame\n",
    "df_pandas = df.toPandas()\n",
    "\n",
    "# Plot the data\n",
    "df_pandas.plot(kind='bar', x='column1', y='column2')\n",
    "plt.show()"
   ]
  }
 ],
 "metadata": {
  "kernelspec": {
   "display_name": "venv",
   "language": "python",
   "name": "python3"
  },
  "language_info": {
   "codemirror_mode": {
    "name": "ipython",
    "version": 3
   },
   "file_extension": ".py",
   "mimetype": "text/x-python",
   "name": "python",
   "nbconvert_exporter": "python",
   "pygments_lexer": "ipython3",
   "version": "3.10.8"
  }
 },
 "nbformat": 4,
 "nbformat_minor": 2
}
